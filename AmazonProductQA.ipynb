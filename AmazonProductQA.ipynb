{
  "nbformat": 4,
  "nbformat_minor": 0,
  "metadata": {
    "colab": {
      "name": "AmazonProductQA.ipynb",
      "provenance": [],
      "toc_visible": true,
      "authorship_tag": "ABX9TyNJZTR7x8PM/h62BRBOR8SZ"
    },
    "kernelspec": {
      "name": "python3",
      "display_name": "Python 3"
    }
  },
  "cells": [
    {
      "cell_type": "markdown",
      "metadata": {
        "id": "Q7M3iAq_BG9J"
      },
      "source": [
        "#**This notebook will scrape the questions, answers and their votes from a specific Amazon product** "
      ]
    },
    {
      "cell_type": "markdown",
      "metadata": {
        "id": "r_13o9rMBBG4"
      },
      "source": [
        "Installing Requirements"
      ]
    },
    {
      "cell_type": "code",
      "metadata": {
        "id": "AhR960DgAlXH"
      },
      "source": [
        "pip install requests\r\n",
        "pip install bs4"
      ],
      "execution_count": null,
      "outputs": []
    },
    {
      "cell_type": "markdown",
      "metadata": {
        "id": "SKjFc8rhCKc0"
      },
      "source": [
        "Importng libraries"
      ]
    },
    {
      "cell_type": "code",
      "metadata": {
        "id": "xkjEtudaCFxK"
      },
      "source": [
        "import requests\r\n",
        "from bs4 import BeautifulSoup\r\n",
        "import urllib"
      ],
      "execution_count": null,
      "outputs": []
    },
    {
      "cell_type": "code",
      "metadata": {
        "id": "xc52FMNDCsY7"
      },
      "source": [
        "for questionPage in range(1,7):\r\n",
        "  # Setting variables\r\n",
        "  url = \"https://www.amazon.com/ask/questions/asin\"\r\n",
        "  product = \"B0776QHK2W\"\r\n",
        "  answeredQuestions = \"ask_ql_psf_ql_hza?isAnswered=true\"\r\n",
        "  productURL = url + \"/\" + product + \"/\" + str(questionPage) + \"/\" + answeredQuestions\r\n",
        "  headers = {\r\n",
        "      'authority': 'amazon.com',\r\n",
        "      'dnt': '1',\r\n",
        "      'upgrade-insecure-requests': '1',\r\n",
        "      'user-agent': 'Mozilla/5.0 (Macintosh; Intel Mac OS X 10_15_4) AppleWebKit/537.36 (KHTML, like Gecko) Chrome/83.0.4103.61 Safari/537.36',\r\n",
        "      'accept': 'text/html,application/xhtml+xml,application/xml;q=0.9,image/webp,image/apng,*/*;q=0.8,application/signed-exchange;v=b3;q=0.9',\r\n",
        "      'sec-fetch-site': 'none',\r\n",
        "      'sec-fetch-mode': 'navigate',\r\n",
        "      'sec-fetch-user': '?1',\r\n",
        "      'sec-fetch-dest': 'document',\r\n",
        "      'accept-language': 'en-GB,en-US;q=0.9,en;q=0.8',\r\n",
        "  }\r\n",
        "\r\n",
        "  # Gettinh HTML content\r\n",
        "  askPage = requests.get(productURL, headers = headers, proxies=urllib.request.getproxies())\r\n",
        "  soup = BeautifulSoup(askPage.content, \"html.parser\")\r\n",
        "  \r\n",
        "  # Get questions, answers and their votes from all question pages\r\n",
        "  questAnsw = soup.find_all(\"div\", class_ = \"a-fixed-left-grid a-spacing-base\")\r\n",
        "  for quest in questAnsw:\r\n",
        "\r\n",
        "    question1 = quest.find(\"span\", attrs={'class':\"a-declarative\",'data-action': \"ask-no-op\",'data-ask-no-op':'{\"metricName\":\"top-question-text-click\"}'})\r\n",
        "    if question1 is not None:\r\n",
        "      question = question1.text.strip()\r\n",
        "      print(\"Q:\",question)\r\n",
        "\r\n",
        "    answer1 = quest.find(\"div\", attrs={'class':\"a-fixed-left-grid-col a-col-right\",'style':\"padding-left:0%;float:left;\"}).span\r\n",
        "    if not answer1.attrs.values():\r\n",
        "      answer = answer1.string\r\n",
        "      print(\"A:\",answer)\r\n",
        "    \r\n",
        "    votes_div = quest.find(\"div\", class_ = \"a-fixed-left-grid-col a-col-left\")\r\n",
        "    if votes_div is not None:\r\n",
        "      votes_ul = votes_div.find(\"ul\", class_=\"vote voteAjax\")\r\n",
        "      if votes_ul is not None:\r\n",
        "        votes_li = votes_ul.find(\"li\", class_=\"label\")\r\n",
        "        if votes_li is not None:\r\n",
        "          votes = votes_li.find(\"span\", class_ = \"count\").text.strip()\r\n",
        "          print(\"Votes: \",votes)"
      ],
      "execution_count": null,
      "outputs": []
    }
  ]
}